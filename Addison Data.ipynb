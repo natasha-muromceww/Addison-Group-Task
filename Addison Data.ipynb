{
 "cells": [
  {
   "cell_type": "markdown",
   "id": "38842555",
   "metadata": {},
   "source": [
    "# Addison Data"
   ]
  },
  {
   "cell_type": "code",
   "execution_count": 1,
   "id": "25960b77",
   "metadata": {},
   "outputs": [],
   "source": [
    "import pandas as pd\n",
    "import numpy as np\n",
    "import seaborn as sb\n",
    "import matplotlib.pyplot as plt"
   ]
  },
  {
   "cell_type": "code",
   "execution_count": 2,
   "id": "e195ae3f",
   "metadata": {
    "scrolled": true
   },
   "outputs": [],
   "source": [
    "dataset = pd.read_csv(\"AGAA_ObjectData.csv\")\n",
    "dataset.head()\n",
    "data = pd.DataFrame(dataset)"
   ]
  },
  {
   "cell_type": "markdown",
   "id": "389aef41",
   "metadata": {},
   "source": [
    "## Finding Missing Data"
   ]
  },
  {
   "cell_type": "code",
   "execution_count": 3,
   "id": "25a5e515",
   "metadata": {},
   "outputs": [
    {
     "data": {
      "text/html": [
       "<div>\n",
       "<style scoped>\n",
       "    .dataframe tbody tr th:only-of-type {\n",
       "        vertical-align: middle;\n",
       "    }\n",
       "\n",
       "    .dataframe tbody tr th {\n",
       "        vertical-align: top;\n",
       "    }\n",
       "\n",
       "    .dataframe thead th {\n",
       "        text-align: right;\n",
       "    }\n",
       "</style>\n",
       "<table border=\"1\" class=\"dataframe\">\n",
       "  <thead>\n",
       "    <tr style=\"text-align: right;\">\n",
       "      <th></th>\n",
       "      <th>Accession Number</th>\n",
       "      <th>Artist - Sort Name</th>\n",
       "      <th>Full Title</th>\n",
       "      <th>Portfolio (Series) Title</th>\n",
       "      <th>Creation Date</th>\n",
       "      <th>Height</th>\n",
       "      <th>Width</th>\n",
       "      <th>Depth</th>\n",
       "      <th>Media &amp; Support</th>\n",
       "      <th>Credit Line</th>\n",
       "      <th>Class Type</th>\n",
       "    </tr>\n",
       "  </thead>\n",
       "  <tbody>\n",
       "    <tr>\n",
       "      <th>0</th>\n",
       "      <td>2003.23</td>\n",
       "      <td>A, Type</td>\n",
       "      <td>Stand (face)</td>\n",
       "      <td>NaN</td>\n",
       "      <td>2002-2003</td>\n",
       "      <td>24 in.</td>\n",
       "      <td>30 in.</td>\n",
       "      <td>NaN</td>\n",
       "      <td>two-channel video installation</td>\n",
       "      <td>purchased with funds from an anonymous donor a...</td>\n",
       "      <td>G: Photography</td>\n",
       "    </tr>\n",
       "    <tr>\n",
       "      <th>1</th>\n",
       "      <td>2007.36</td>\n",
       "      <td>A, Type</td>\n",
       "      <td>Cheer (Slam)</td>\n",
       "      <td>NaN</td>\n",
       "      <td>2006</td>\n",
       "      <td>18 1/2 in.</td>\n",
       "      <td>29 1/2 in.</td>\n",
       "      <td>NaN</td>\n",
       "      <td>chromogenic print</td>\n",
       "      <td>gift of the artists</td>\n",
       "      <td>G: Photography</td>\n",
       "    </tr>\n",
       "    <tr>\n",
       "      <th>2</th>\n",
       "      <td>2007.37</td>\n",
       "      <td>A, Type</td>\n",
       "      <td>Cheer</td>\n",
       "      <td>NaN</td>\n",
       "      <td>2006</td>\n",
       "      <td>NaN</td>\n",
       "      <td>NaN</td>\n",
       "      <td>NaN</td>\n",
       "      <td>single-channel video</td>\n",
       "      <td>gift of the artists</td>\n",
       "      <td>G: Photography</td>\n",
       "    </tr>\n",
       "    <tr>\n",
       "      <th>3</th>\n",
       "      <td>1948.11</td>\n",
       "      <td>Abate, Peter</td>\n",
       "      <td>Wandering</td>\n",
       "      <td>NaN</td>\n",
       "      <td>c. 1947</td>\n",
       "      <td>1 3/4 in.</td>\n",
       "      <td>5 1/8 in.</td>\n",
       "      <td>NaN</td>\n",
       "      <td>bronze</td>\n",
       "      <td>museum purchase</td>\n",
       "      <td>B: Sculpture</td>\n",
       "    </tr>\n",
       "    <tr>\n",
       "      <th>4</th>\n",
       "      <td>1937.37</td>\n",
       "      <td>Abbey, Edwin Austin</td>\n",
       "      <td>Deck of a Ship</td>\n",
       "      <td>NaN</td>\n",
       "      <td>n.d.</td>\n",
       "      <td>15 in.</td>\n",
       "      <td>10 11/16 in.</td>\n",
       "      <td>NaN</td>\n",
       "      <td>graphite, ink wash on wove paper</td>\n",
       "      <td>museum purchase</td>\n",
       "      <td>E: Work on Paper</td>\n",
       "    </tr>\n",
       "  </tbody>\n",
       "</table>\n",
       "</div>"
      ],
      "text/plain": [
       "  Accession Number   Artist - Sort Name      Full Title  \\\n",
       "0          2003.23              A, Type    Stand (face)   \n",
       "1          2007.36              A, Type    Cheer (Slam)   \n",
       "2          2007.37              A, Type           Cheer   \n",
       "3          1948.11         Abate, Peter       Wandering   \n",
       "4          1937.37  Abbey, Edwin Austin  Deck of a Ship   \n",
       "\n",
       "  Portfolio (Series) Title Creation Date      Height         Width Depth  \\\n",
       "0                      NaN     2002-2003      24 in.        30 in.   NaN   \n",
       "1                      NaN          2006  18 1/2 in.    29 1/2 in.   NaN   \n",
       "2                      NaN          2006         NaN           NaN   NaN   \n",
       "3                      NaN       c. 1947   1 3/4 in.     5 1/8 in.   NaN   \n",
       "4                      NaN          n.d.      15 in.  10 11/16 in.   NaN   \n",
       "\n",
       "                    Media & Support  \\\n",
       "0    two-channel video installation   \n",
       "1                 chromogenic print   \n",
       "2              single-channel video   \n",
       "3                            bronze   \n",
       "4  graphite, ink wash on wove paper   \n",
       "\n",
       "                                         Credit Line        Class Type  \n",
       "0  purchased with funds from an anonymous donor a...    G: Photography  \n",
       "1                                gift of the artists    G: Photography  \n",
       "2                                gift of the artists    G: Photography  \n",
       "3                                    museum purchase      B: Sculpture  \n",
       "4                                    museum purchase  E: Work on Paper  "
      ]
     },
     "execution_count": 3,
     "metadata": {},
     "output_type": "execute_result"
    }
   ],
   "source": [
    "null_data = data[data.isnull().any(axis=1)] \n",
    "null_data.head()"
   ]
  },
  {
   "cell_type": "code",
   "execution_count": 4,
   "id": "96a3f6a0",
   "metadata": {},
   "outputs": [
    {
     "data": {
      "text/html": [
       "<div>\n",
       "<style scoped>\n",
       "    .dataframe tbody tr th:only-of-type {\n",
       "        vertical-align: middle;\n",
       "    }\n",
       "\n",
       "    .dataframe tbody tr th {\n",
       "        vertical-align: top;\n",
       "    }\n",
       "\n",
       "    .dataframe thead th {\n",
       "        text-align: right;\n",
       "    }\n",
       "</style>\n",
       "<table border=\"1\" class=\"dataframe\">\n",
       "  <thead>\n",
       "    <tr style=\"text-align: right;\">\n",
       "      <th></th>\n",
       "      <th>Accession Number</th>\n",
       "      <th>Artist - Sort Name</th>\n",
       "      <th>Full Title</th>\n",
       "      <th>Portfolio (Series) Title</th>\n",
       "      <th>Creation Date</th>\n",
       "      <th>Height</th>\n",
       "      <th>Width</th>\n",
       "      <th>Depth</th>\n",
       "      <th>Media &amp; Support</th>\n",
       "      <th>Credit Line</th>\n",
       "      <th>Class Type</th>\n",
       "    </tr>\n",
       "  </thead>\n",
       "  <tbody>\n",
       "    <tr>\n",
       "      <th>count</th>\n",
       "      <td>18013</td>\n",
       "      <td>18013</td>\n",
       "      <td>18013</td>\n",
       "      <td>9365</td>\n",
       "      <td>18012</td>\n",
       "      <td>16317</td>\n",
       "      <td>16186</td>\n",
       "      <td>289</td>\n",
       "      <td>18011</td>\n",
       "      <td>17897</td>\n",
       "      <td>17999</td>\n",
       "    </tr>\n",
       "    <tr>\n",
       "      <th>unique</th>\n",
       "      <td>18013</td>\n",
       "      <td>2323</td>\n",
       "      <td>14704</td>\n",
       "      <td>474</td>\n",
       "      <td>1198</td>\n",
       "      <td>747</td>\n",
       "      <td>742</td>\n",
       "      <td>66</td>\n",
       "      <td>2640</td>\n",
       "      <td>1055</td>\n",
       "      <td>8</td>\n",
       "    </tr>\n",
       "    <tr>\n",
       "      <th>top</th>\n",
       "      <td>2014.30.0</td>\n",
       "      <td>Muybridge, Eadweard James</td>\n",
       "      <td>Untitled</td>\n",
       "      <td>Sketchbook</td>\n",
       "      <td>n.d.</td>\n",
       "      <td>8 in.</td>\n",
       "      <td>10 in.</td>\n",
       "      <td>5/8 in.</td>\n",
       "      <td>gelatin silver print</td>\n",
       "      <td>museum purchase</td>\n",
       "      <td>G: Photography</td>\n",
       "    </tr>\n",
       "    <tr>\n",
       "      <th>freq</th>\n",
       "      <td>1</td>\n",
       "      <td>974</td>\n",
       "      <td>508</td>\n",
       "      <td>861</td>\n",
       "      <td>2281</td>\n",
       "      <td>469</td>\n",
       "      <td>480</td>\n",
       "      <td>39</td>\n",
       "      <td>3570</td>\n",
       "      <td>5302</td>\n",
       "      <td>8533</td>\n",
       "    </tr>\n",
       "  </tbody>\n",
       "</table>\n",
       "</div>"
      ],
      "text/plain": [
       "       Accession Number         Artist - Sort Name Full Title  \\\n",
       "count             18013                      18013      18013   \n",
       "unique            18013                       2323      14704   \n",
       "top           2014.30.0  Muybridge, Eadweard James   Untitled   \n",
       "freq                  1                        974        508   \n",
       "\n",
       "       Portfolio (Series) Title Creation Date Height   Width    Depth  \\\n",
       "count                      9365         18012  16317   16186      289   \n",
       "unique                      474          1198    747     742       66   \n",
       "top                  Sketchbook          n.d.  8 in.  10 in.  5/8 in.   \n",
       "freq                        861          2281    469     480       39   \n",
       "\n",
       "             Media & Support      Credit Line      Class Type  \n",
       "count                  18011            17897           17999  \n",
       "unique                  2640             1055               8  \n",
       "top     gelatin silver print  museum purchase  G: Photography  \n",
       "freq                    3570             5302            8533  "
      ]
     },
     "execution_count": 4,
     "metadata": {},
     "output_type": "execute_result"
    }
   ],
   "source": [
    "data.describe()"
   ]
  },
  {
   "cell_type": "code",
   "execution_count": 5,
   "id": "f90a2d16",
   "metadata": {
    "scrolled": false
   },
   "outputs": [
    {
     "name": "stdout",
     "output_type": "stream",
     "text": [
      "<class 'pandas.core.frame.DataFrame'>\n",
      "RangeIndex: 18013 entries, 0 to 18012\n",
      "Data columns (total 11 columns):\n",
      " #   Column                    Non-Null Count  Dtype \n",
      "---  ------                    --------------  ----- \n",
      " 0   Accession Number          18013 non-null  object\n",
      " 1   Artist - Sort Name        18013 non-null  object\n",
      " 2   Full Title                18013 non-null  object\n",
      " 3   Portfolio (Series) Title  9365 non-null   object\n",
      " 4   Creation Date             18012 non-null  object\n",
      " 5   Height                    16317 non-null  object\n",
      " 6   Width                     16186 non-null  object\n",
      " 7   Depth                     289 non-null    object\n",
      " 8   Media & Support           18011 non-null  object\n",
      " 9   Credit Line               17897 non-null  object\n",
      " 10  Class Type                17999 non-null  object\n",
      "dtypes: object(11)\n",
      "memory usage: 1.5+ MB\n"
     ]
    }
   ],
   "source": [
    "data.info()"
   ]
  },
  {
   "cell_type": "code",
   "execution_count": 6,
   "id": "c2a40820",
   "metadata": {
    "scrolled": true
   },
   "outputs": [
    {
     "data": {
      "image/png": "[encoded data removed]",
      "text/plain": [
       "<Figure size 432x288 with 1 Axes>"
      ]
     },
     "metadata": {},
     "output_type": "display_data"
    }
   ],
   "source": [
    "def label_function(val):\n",
    "    return f'{val / 100 * len(dataset):.0f}\\n{val:.0f}%'\n",
    "\n",
    "\n",
    "dataset.groupby('Class Type').size().plot(kind='pie', autopct=label_function, textprops={'fontsize': 5},\n",
    "                        colors=['#aeddb4', '#ddafae', '#dfe29f', '#b19fe2', '#9fbae2', '#9fe2cd', '#e29fe0'])\n",
    "\n",
    "\n",
    "plt.show()"
   ]
  },
  {
   "cell_type": "code",
   "execution_count": 7,
   "id": "4e3f5f68",
   "metadata": {},
   "outputs": [
    {
     "ename": "NameError",
     "evalue": "name 'DataFrame' is not defined",
     "output_type": "error",
     "traceback": [
      "\u001b[0;31m---------------------------------------------------------------------------\u001b[0m",
      "\u001b[0;31mNameError\u001b[0m                                 Traceback (most recent call last)",
      "\u001b[0;32m<ipython-input-7-327beab300ab>\u001b[0m in \u001b[0;36m<module>\u001b[0;34m\u001b[0m\n\u001b[0;32m----> 1\u001b[0;31m \u001b[0mDataFrame\u001b[0m\u001b[0;34m.\u001b[0m\u001b[0mplot\u001b[0m\u001b[0;34m.\u001b[0m\u001b[0mbar\u001b[0m\u001b[0;34m(\u001b[0m\u001b[0mx\u001b[0m\u001b[0;34m=\u001b[0m\u001b[0;32mNone\u001b[0m\u001b[0;34m,\u001b[0m \u001b[0my\u001b[0m\u001b[0;34m=\u001b[0m\u001b[0;32mNone\u001b[0m\u001b[0;34m,\u001b[0m \u001b[0;34m**\u001b[0m\u001b[0mkwargs\u001b[0m\u001b[0;34m)\u001b[0m\u001b[0;34m\u001b[0m\u001b[0;34m\u001b[0m\u001b[0m\n\u001b[0m\u001b[1;32m      2\u001b[0m \u001b[0mplt\u001b[0m\u001b[0;34m.\u001b[0m\u001b[0mshow\u001b[0m\u001b[0;34m(\u001b[0m\u001b[0;34m)\u001b[0m\u001b[0;34m\u001b[0m\u001b[0;34m\u001b[0m\u001b[0m\n",
      "\u001b[0;31mNameError\u001b[0m: name 'DataFrame' is not defined"
     ]
    }
   ],
   "source": [
    "DataFrame.plot.bar(x=None, y=None, **kwargs)\n",
    "plt.show()"
   ]
  },
  {
   "cell_type": "code",
   "execution_count": null,
   "id": "a2d8cb39",
   "metadata": {},
   "outputs": [],
   "source": []
  }
 ],
 "metadata": {
  "kernelspec": {
   "display_name": "Python 3",
   "language": "python",
   "name": "python3"
  },
  "language_info": {
   "codemirror_mode": {
    "name": "ipython",
    "version": 3
   },
   "file_extension": ".py",
   "mimetype": "text/x-python",
   "name": "python",
   "nbconvert_exporter": "python",
   "pygments_lexer": "ipython3",
   "version": "3.8.8"
  }
 },
 "nbformat": 4,
 "nbformat_minor": 5
}
